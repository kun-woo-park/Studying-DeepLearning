{
 "cells": [
  {
   "cell_type": "code",
   "execution_count": 1,
   "metadata": {},
   "outputs": [],
   "source": [
    "import torch\n",
    "import random\n",
    "import torchvision\n",
    "from torch.utils.data import Dataset, DataLoader\n",
    "import torch.nn as nn\n",
    "import torch.nn.functional as F\n",
    "import argparse,os,time\n",
    "import os\n",
    "import time\n",
    "import os\n",
    "import pandas as pd\n",
    "import numpy as np\n",
    "import matplotlib.pyplot as plt\n",
    "num_gpus=4"
   ]
  },
  {
   "cell_type": "code",
   "execution_count": 2,
   "metadata": {},
   "outputs": [],
   "source": [
    "data = pd.read_csv('train_augmented.csv', index_col=0)\n",
    "val_data=pd.read_csv('val_augmented.csv', index_col=0)"
   ]
  },
  {
   "cell_type": "code",
   "execution_count": 3,
   "metadata": {},
   "outputs": [],
   "source": [
    "y_data=data[\"digit\"].values\n",
    "y_data_val=val_data[\"digit\"].values"
   ]
  },
  {
   "cell_type": "code",
   "execution_count": 4,
   "metadata": {},
   "outputs": [
    {
     "data": {
      "text/plain": [
       "(81900,)"
      ]
     },
     "execution_count": 4,
     "metadata": {},
     "output_type": "execute_result"
    }
   ],
   "source": [
    "y_data.shape"
   ]
  },
  {
   "cell_type": "code",
   "execution_count": 5,
   "metadata": {},
   "outputs": [],
   "source": [
    "x_data=data.loc[:,\"0\":\"783\"].values\n",
    "x_data_val=val_data.loc[:,\"0\":\"783\"].values"
   ]
  },
  {
   "cell_type": "code",
   "execution_count": 6,
   "metadata": {},
   "outputs": [
    {
     "data": {
      "text/plain": [
       "(81900, 784)"
      ]
     },
     "execution_count": 6,
     "metadata": {},
     "output_type": "execute_result"
    }
   ],
   "source": [
    "x_data_train=x_data\n",
    "x_data_train.shape"
   ]
  },
  {
   "cell_type": "code",
   "execution_count": 7,
   "metadata": {},
   "outputs": [
    {
     "data": {
      "text/plain": [
       "(20500, 784)"
      ]
     },
     "execution_count": 7,
     "metadata": {},
     "output_type": "execute_result"
    }
   ],
   "source": [
    "x_data_test=x_data_val\n",
    "x_data_test.shape"
   ]
  },
  {
   "cell_type": "code",
   "execution_count": 8,
   "metadata": {},
   "outputs": [
    {
     "data": {
      "text/plain": [
       "(81900, 784)"
      ]
     },
     "execution_count": 8,
     "metadata": {},
     "output_type": "execute_result"
    }
   ],
   "source": [
    "x_data_train=x_data_train/x_data_train.max()\n",
    "x_data_test=x_data_test/x_data_test.max()\n",
    "x_data_train.shape"
   ]
  },
  {
   "cell_type": "code",
   "execution_count": 9,
   "metadata": {},
   "outputs": [],
   "source": [
    "class CustomDataset(Dataset):\n",
    "    def __init__(self,x_dat,y_dat):\n",
    "        x = x_dat\n",
    "        y = y_dat\n",
    "        self.len = x.shape[0]\n",
    "        y=y.astype('int')\n",
    "        x=x.astype('float32')\n",
    "        self.x_data = torch.tensor(x)\n",
    "        self.y_data = torch.tensor(y)\n",
    "\n",
    "    def __getitem__(self, index):\n",
    "        return self.x_data[index], self.y_data[index]\n",
    "\n",
    "    def __len__(self):\n",
    "        return self.len"
   ]
  },
  {
   "cell_type": "code",
   "execution_count": 10,
   "metadata": {},
   "outputs": [],
   "source": [
    "batch_size=256\n",
    "train_dataset = CustomDataset(x_data_train,y_data)\n",
    "train_loader = DataLoader(dataset=train_dataset,pin_memory=True,\n",
    "                          batch_size=batch_size,\n",
    "                          shuffle=True,\n",
    "                          num_workers=60,drop_last=True)\n",
    "test_dataset = CustomDataset(x_data_test,y_data_val)\n",
    "test_loader = DataLoader(dataset=test_dataset,pin_memory=True,\n",
    "                          batch_size=batch_size,\n",
    "                          shuffle=True,\n",
    "                          num_workers=60,drop_last=True)"
   ]
  },
  {
   "cell_type": "code",
   "execution_count": 11,
   "metadata": {},
   "outputs": [],
   "source": [
    "# https://github.com/pytorch/vision/blob/master/torchvision/models/resnet.py"
   ]
  },
  {
   "cell_type": "code",
   "execution_count": 12,
   "metadata": {},
   "outputs": [],
   "source": [
    "def conv3x3(in_planes, out_planes, stride=1, groups=1, dilation=1):\n",
    "    \"\"\"3x3 convolution with padding\"\"\"\n",
    "    return nn.Conv2d(in_planes, out_planes, kernel_size=3, stride=stride,\n",
    "                     padding=dilation, groups=groups, bias=False, dilation=dilation)\n",
    "\n",
    "\n",
    "def conv1x1(in_planes, out_planes, stride=1):\n",
    "    \"\"\"1x1 convolution\"\"\"\n",
    "    return nn.Conv2d(in_planes, out_planes, kernel_size=1, stride=stride, bias=False)"
   ]
  },
  {
   "cell_type": "code",
   "execution_count": 13,
   "metadata": {},
   "outputs": [],
   "source": [
    "class Bottleneck(nn.Module):\n",
    "\n",
    "    expansion = 4\n",
    "\n",
    "    def __init__(self, inplanes, planes, stride=1, downsample=None, groups=1,\n",
    "                 base_width=64, dilation=1, norm_layer=None):\n",
    "        super(Bottleneck, self).__init__()\n",
    "        if norm_layer is None:\n",
    "            norm_layer = nn.BatchNorm2d\n",
    "        width = int(planes * (base_width / 64.)) * groups\n",
    "        # Both self.conv2 and self.downsample layers downsample the input when stride != 1\n",
    "        self.conv1 = conv1x1(inplanes, width)\n",
    "        self.bn1 = norm_layer(width)\n",
    "        self.conv2 = conv3x3(width, width, stride, groups, dilation)\n",
    "        self.bn2 = norm_layer(width)\n",
    "        self.conv3 = conv1x1(width, planes * self.expansion)\n",
    "        self.bn3 = norm_layer(planes * self.expansion)\n",
    "        self.relu = nn.ReLU(inplace=True)\n",
    "        self.downsample = downsample\n",
    "        self.stride = stride\n",
    "\n",
    "    def forward(self, x):\n",
    "        identity = x\n",
    "\n",
    "        out = self.conv1(x)\n",
    "        out = self.bn1(out)\n",
    "        out = self.relu(out)\n",
    "\n",
    "        out = self.conv2(out)\n",
    "        out = self.bn2(out)\n",
    "        out = self.relu(out)\n",
    "\n",
    "        out = self.conv3(out)\n",
    "        out = self.bn3(out)\n",
    "\n",
    "        if self.downsample is not None:\n",
    "            identity = self.downsample(x)\n",
    "\n",
    "        out += identity\n",
    "        out = self.relu(out)\n",
    "\n",
    "        return out\n"
   ]
  },
  {
   "cell_type": "code",
   "execution_count": 14,
   "metadata": {},
   "outputs": [],
   "source": [
    "class ResNet(nn.Module):\n",
    "\n",
    "    def __init__(self, block, layers, num_classes=10, zero_init_residual=False,\n",
    "                 groups=1, width_per_group=64, replace_stride_with_dilation=None,\n",
    "                 norm_layer=None):\n",
    "        super(ResNet, self).__init__()\n",
    "        if norm_layer is None:\n",
    "            norm_layer = nn.BatchNorm2d\n",
    "        self._norm_layer = norm_layer\n",
    "\n",
    "        self.inplanes = 64\n",
    "        self.dilation = 1\n",
    "        if replace_stride_with_dilation is None:\n",
    "            # each element in the tuple indicates if we should replace\n",
    "            # the 2x2 stride with a dilated convolution instead\n",
    "            replace_stride_with_dilation = [False, False, False]\n",
    "        if len(replace_stride_with_dilation) != 3:\n",
    "            raise ValueError(\"replace_stride_with_dilation should be None \"\n",
    "                             \"or a 3-element tuple, got {}\".format(replace_stride_with_dilation))\n",
    "        self.groups = groups\n",
    "        self.base_width = width_per_group\n",
    "        self.conv1 = nn.Conv2d(1, self.inplanes, kernel_size=7, stride=2, padding=3,\n",
    "                               bias=False)\n",
    "        self.bn1 = norm_layer(self.inplanes)\n",
    "        self.relu = nn.ReLU(inplace=True)\n",
    "        self.maxpool = nn.MaxPool2d(kernel_size=3, stride=2, padding=1)\n",
    "        self.layer1 = self._make_layer(block, 64, layers[0])\n",
    "        self.layer2 = self._make_layer(block, 128, layers[1], stride=2,\n",
    "                                       dilate=replace_stride_with_dilation[0])\n",
    "        self.layer3 = self._make_layer(block, 256, layers[2], stride=2,\n",
    "                                       dilate=replace_stride_with_dilation[1])\n",
    "        self.layer4 = self._make_layer(block, 512, layers[3], stride=2,\n",
    "                                       dilate=replace_stride_with_dilation[2])\n",
    "        self.avgpool = nn.AdaptiveAvgPool2d((1, 1))\n",
    "        self.fc = nn.Linear(512 * block.expansion, num_classes)\n",
    "\n",
    "        for m in self.modules():\n",
    "            if isinstance(m, nn.Conv2d):\n",
    "                nn.init.kaiming_normal_(m.weight, mode='fan_out', nonlinearity='relu')\n",
    "            elif isinstance(m, (nn.BatchNorm2d, nn.GroupNorm)):\n",
    "                nn.init.constant_(m.weight, 1)\n",
    "                nn.init.constant_(m.bias, 0)\n",
    "\n",
    "        # Zero-initialize the last BN in each residual branch,\n",
    "        # so that the residual branch starts with zeros, and each residual block behaves like an identity.\n",
    "        # This improves the model by 0.2~0.3% according to https://arxiv.org/abs/1706.02677\n",
    "        if zero_init_residual:\n",
    "            for m in self.modules():\n",
    "                if isinstance(m, Bottleneck):\n",
    "                    nn.init.constant_(m.bn3.weight, 0)\n",
    "                elif isinstance(m, BasicBlock):\n",
    "                    nn.init.constant_(m.bn2.weight, 0)\n",
    "\n",
    "    def _make_layer(self, block, planes, blocks, stride=1, dilate=False):\n",
    "        norm_layer = self._norm_layer\n",
    "        downsample = None\n",
    "        previous_dilation = self.dilation\n",
    "        if dilate:\n",
    "            self.dilation *= stride\n",
    "            stride = 1\n",
    "        if stride != 1 or self.inplanes != planes * block.expansion:\n",
    "            downsample = nn.Sequential(\n",
    "                conv1x1(self.inplanes, planes * block.expansion, stride),\n",
    "                norm_layer(planes * block.expansion),\n",
    "            )\n",
    "\n",
    "        layers = []\n",
    "        layers.append(block(self.inplanes, planes, stride, downsample, self.groups,\n",
    "                            self.base_width, previous_dilation, norm_layer))\n",
    "        self.inplanes = planes * block.expansion\n",
    "        for _ in range(1, blocks):\n",
    "            layers.append(block(self.inplanes, planes, groups=self.groups,\n",
    "                                base_width=self.base_width, dilation=self.dilation,\n",
    "                                norm_layer=norm_layer))\n",
    "\n",
    "        return nn.Sequential(*layers)\n",
    "\n",
    "    def _forward_impl(self, x):\n",
    "        # See note [TorchScript super()]\n",
    "        x = x.view(batch_size,1,28,28)\n",
    "        x = self.conv1(x)\n",
    "        x = self.bn1(x)\n",
    "        x = self.relu(x)\n",
    "        x = self.maxpool(x)\n",
    "\n",
    "        x = self.layer1(x)\n",
    "        x = self.layer2(x)\n",
    "        x = self.layer3(x)\n",
    "        x = self.layer4(x)\n",
    "\n",
    "        x = self.avgpool(x)\n",
    "        x = x.view(batch_size,-1)\n",
    "        x = self.fc(x)\n",
    "\n",
    "        return x\n",
    "\n",
    "    def forward(self, x):\n",
    "        return self._forward_impl(x)"
   ]
  },
  {
   "cell_type": "code",
   "execution_count": 15,
   "metadata": {},
   "outputs": [],
   "source": [
    "model = ResNet(block=Bottleneck, layers=[3, 8, 36, 3])\n",
    "model=model.cuda()\n",
    "criterion = nn.CrossEntropyLoss()\n",
    "optimizer = torch.optim.Adam(model.parameters(),weight_decay=0.001)"
   ]
  },
  {
   "cell_type": "code",
   "execution_count": 16,
   "metadata": {
    "scrolled": true
   },
   "outputs": [
    {
     "name": "stdout",
     "output_type": "stream",
     "text": [
      "2020/09/24 10:20:39\n",
      "epoch: 1/200 | trn loss: 2.0826 | val loss: 1.8636 | val accuracy: 36.1426% \n",
      "\n",
      "2020/09/24 10:21:46\n",
      "epoch: 2/200 | trn loss: 1.6363 | val loss: 1.4597 | val accuracy: 48.7256% \n",
      "\n",
      "2020/09/24 10:22:54\n",
      "epoch: 3/200 | trn loss: 1.2699 | val loss: 1.2570 | val accuracy: 56.9678% \n",
      "\n",
      "2020/09/24 10:24:01\n",
      "epoch: 4/200 | trn loss: 0.9399 | val loss: 1.0427 | val accuracy: 64.8535% \n",
      "\n",
      "2020/09/24 10:25:07\n",
      "epoch: 5/200 | trn loss: 0.6664 | val loss: 0.9707 | val accuracy: 68.5352% \n",
      "\n",
      "2020/09/24 10:26:14\n",
      "epoch: 6/200 | trn loss: 0.4955 | val loss: 0.8761 | val accuracy: 72.3682% \n",
      "\n",
      "2020/09/24 10:27:21\n",
      "epoch: 7/200 | trn loss: 0.3906 | val loss: 0.8126 | val accuracy: 76.4941% \n",
      "\n",
      "2020/09/24 10:28:27\n",
      "epoch: 8/200 | trn loss: 0.3222 | val loss: 0.7649 | val accuracy: 77.9346% \n",
      "\n",
      "2020/09/24 10:29:33\n",
      "epoch: 9/200 | trn loss: 0.2801 | val loss: 0.6995 | val accuracy: 79.4238% \n",
      "\n",
      "2020/09/24 10:30:39\n",
      "epoch: 10/200 | trn loss: 0.2552 | val loss: 0.7444 | val accuracy: 79.2529% \n",
      "\n",
      "2020/09/24 10:31:46\n",
      "epoch: 11/200 | trn loss: 0.2350 | val loss: 0.7101 | val accuracy: 80.3027% \n",
      "\n"
     ]
    },
    {
     "name": "stderr",
     "output_type": "stream",
     "text": [
      "/home/jupyter-kunwoopark/.local/lib/python3.7/site-packages/torch/serialization.py:402: UserWarning: Couldn't retrieve source code for container of type ResNet. It won't be checked for correctness upon loading.\n",
      "  \"type \" + obj.__name__ + \". It won't be checked \"\n",
      "/home/jupyter-kunwoopark/.local/lib/python3.7/site-packages/torch/serialization.py:402: UserWarning: Couldn't retrieve source code for container of type Bottleneck. It won't be checked for correctness upon loading.\n",
      "  \"type \" + obj.__name__ + \". It won't be checked \"\n"
     ]
    },
    {
     "name": "stdout",
     "output_type": "stream",
     "text": [
      "Model replaced and saved as  RESNET_res152_0.710\n",
      "2020/09/24 10:32:52\n",
      "epoch: 12/200 | trn loss: 0.2245 | val loss: 0.6579 | val accuracy: 82.0410% \n",
      "\n",
      "Model replaced and saved as  RESNET_res152_0.658\n",
      "2020/09/24 10:33:58\n",
      "epoch: 13/200 | trn loss: 0.2094 | val loss: 0.6284 | val accuracy: 82.9785% \n",
      "\n",
      "Model replaced and saved as  RESNET_res152_0.628\n",
      "2020/09/24 10:35:05\n",
      "epoch: 14/200 | trn loss: 0.2025 | val loss: 0.6849 | val accuracy: 82.0508% \n",
      "\n",
      "2020/09/24 10:36:11\n",
      "epoch: 15/200 | trn loss: 0.1918 | val loss: 0.5923 | val accuracy: 84.2578% \n",
      "\n",
      "Model replaced and saved as  RESNET_res152_0.592\n",
      "2020/09/24 10:37:17\n",
      "epoch: 16/200 | trn loss: 0.1847 | val loss: 0.5622 | val accuracy: 84.5508% \n",
      "\n",
      "Model replaced and saved as  RESNET_res152_0.562\n",
      "2020/09/24 10:38:23\n",
      "epoch: 17/200 | trn loss: 0.1728 | val loss: 0.6531 | val accuracy: 83.3057% \n",
      "\n",
      "2020/09/24 10:39:29\n",
      "epoch: 18/200 | trn loss: 0.1647 | val loss: 0.6235 | val accuracy: 84.2285% \n",
      "\n",
      "2020/09/24 10:40:35\n",
      "epoch: 19/200 | trn loss: 0.1712 | val loss: 0.5677 | val accuracy: 84.7705% \n",
      "\n",
      "2020/09/24 10:41:42\n",
      "epoch: 20/200 | trn loss: 0.1616 | val loss: 0.5285 | val accuracy: 86.2793% \n",
      "\n",
      "Model replaced and saved as  RESNET_res152_0.528\n",
      "2020/09/24 10:42:48\n",
      "epoch: 21/200 | trn loss: 0.1560 | val loss: 0.5497 | val accuracy: 85.4932% \n",
      "\n",
      "2020/09/24 10:43:54\n",
      "epoch: 22/200 | trn loss: 0.1493 | val loss: 0.5259 | val accuracy: 86.0547% \n",
      "\n",
      "Model replaced and saved as  RESNET_res152_0.526\n",
      "2020/09/24 10:45:01\n",
      "epoch: 23/200 | trn loss: 0.1489 | val loss: 0.5297 | val accuracy: 86.1865% \n",
      "\n",
      "2020/09/24 10:46:06\n",
      "epoch: 24/200 | trn loss: 0.1396 | val loss: 0.5730 | val accuracy: 85.4199% \n",
      "\n",
      "2020/09/24 10:47:12\n",
      "epoch: 25/200 | trn loss: 0.1424 | val loss: 0.5927 | val accuracy: 85.2441% \n",
      "\n",
      "2020/09/24 10:48:18\n",
      "epoch: 26/200 | trn loss: 0.1367 | val loss: 0.5506 | val accuracy: 86.0010% \n",
      "\n",
      "2020/09/24 10:49:24\n",
      "epoch: 27/200 | trn loss: 0.1282 | val loss: 0.5137 | val accuracy: 86.9092% \n",
      "\n",
      "Model replaced and saved as  RESNET_res152_0.514\n",
      "2020/09/24 10:50:30\n",
      "epoch: 28/200 | trn loss: 0.1250 | val loss: 0.5104 | val accuracy: 86.8457% \n",
      "\n",
      "Model replaced and saved as  RESNET_res152_0.510\n",
      "2020/09/24 10:51:37\n",
      "epoch: 29/200 | trn loss: 0.1249 | val loss: 0.5323 | val accuracy: 86.8848% \n",
      "\n",
      "2020/09/24 10:52:45\n",
      "epoch: 30/200 | trn loss: 0.1207 | val loss: 0.5688 | val accuracy: 86.0498% \n",
      "\n",
      "2020/09/24 10:53:55\n",
      "epoch: 31/200 | trn loss: 0.1198 | val loss: 0.5284 | val accuracy: 86.9922% \n",
      "\n",
      "2020/09/24 10:55:03\n",
      "epoch: 32/200 | trn loss: 0.1128 | val loss: 0.5209 | val accuracy: 87.8271% \n",
      "\n",
      "2020/09/24 10:56:14\n",
      "epoch: 33/200 | trn loss: 0.1126 | val loss: 0.5360 | val accuracy: 87.1338% \n",
      "\n",
      "2020/09/24 10:57:23\n",
      "epoch: 34/200 | trn loss: 0.1138 | val loss: 0.4904 | val accuracy: 87.5488% \n",
      "\n",
      "Model replaced and saved as  RESNET_res152_0.490\n",
      "2020/09/24 10:58:32\n",
      "epoch: 35/200 | trn loss: 0.1017 | val loss: 0.5434 | val accuracy: 86.8408% \n",
      "\n",
      "2020/09/24 10:59:42\n",
      "epoch: 36/200 | trn loss: 0.1102 | val loss: 0.5239 | val accuracy: 87.2070% \n",
      "\n",
      "2020/09/24 11:00:50\n",
      "epoch: 37/200 | trn loss: 0.0950 | val loss: 0.5207 | val accuracy: 87.3389% \n",
      "\n",
      "2020/09/24 11:01:59\n",
      "epoch: 38/200 | trn loss: 0.1046 | val loss: 0.5447 | val accuracy: 86.7627% \n",
      "\n",
      "2020/09/24 11:03:07\n",
      "epoch: 39/200 | trn loss: 0.0959 | val loss: 0.4843 | val accuracy: 88.3008% \n",
      "\n",
      "Model replaced and saved as  RESNET_res152_0.484\n",
      "2020/09/24 11:04:16\n",
      "epoch: 40/200 | trn loss: 0.0971 | val loss: 0.5018 | val accuracy: 88.0566% \n",
      "\n",
      "2020/09/24 11:05:24\n",
      "epoch: 41/200 | trn loss: 0.0918 | val loss: 0.5168 | val accuracy: 87.6318% \n",
      "\n",
      "2020/09/24 11:06:33\n",
      "epoch: 42/200 | trn loss: 0.0936 | val loss: 0.5221 | val accuracy: 86.8701% \n",
      "\n",
      "2020/09/24 11:07:41\n",
      "epoch: 43/200 | trn loss: 0.0887 | val loss: 0.5814 | val accuracy: 86.4307% \n",
      "\n",
      "Early stop!\n"
     ]
    }
   ],
   "source": [
    "trn_loss_list = []\n",
    "val_loss_list = []\n",
    "total_epoch=200\n",
    "model_char=\"res152\"\n",
    "model_name=\"\"\n",
    "patience=5\n",
    "start_early_stop_check=0\n",
    "saving_start_epoch=10\n",
    "\n",
    "for epoch in range(total_epoch):\n",
    "    trn_loss = 0.0\n",
    "    for i, data in enumerate(train_loader, 0):\n",
    "        inputs, labels = data\n",
    "        if torch.cuda.is_available():\n",
    "            inputs=inputs.cuda()\n",
    "            labels=labels.cuda()\n",
    "        # grad init\n",
    "        optimizer.zero_grad()\n",
    "        # forward propagation\n",
    "        output= model(inputs)\n",
    "        # calculate loss\n",
    "        loss=criterion(output, labels)\n",
    "        # back propagation \n",
    "        loss.backward()\n",
    "        # weight update\n",
    "        optimizer.step()\n",
    "        \n",
    "        # trn_loss summary\n",
    "        trn_loss += loss.item()\n",
    "        # del (memory issue)\n",
    "        del loss\n",
    "        del output\n",
    "    with torch.no_grad():\n",
    "        val_loss = 0.0\n",
    "        mis_match = 0\n",
    "        for j, val in enumerate(test_loader):\n",
    "            val_x, val_label = val\n",
    "            if torch.cuda.is_available():\n",
    "                val_x = val_x.cuda()\n",
    "                val_label =val_label.cuda()\n",
    "            val_output = model(val_x)\n",
    "            v_loss = criterion(val_output, val_label)\n",
    "            val_loss += v_loss\n",
    "            _, predicted=torch.max(val_output,1)\n",
    "            mis_match+=np.count_nonzero(predicted.cpu().detach()==val_label.cpu().detach())\n",
    "    del val_output\n",
    "    del v_loss\n",
    "    del predicted\n",
    "    \n",
    "    \n",
    "    \n",
    "    trn_loss_list.append(trn_loss/len(train_loader))\n",
    "    val_loss_list.append(val_loss/len(test_loader))\n",
    "    val_acc=mis_match/(len(test_loader)*batch_size)\n",
    "    now = time.localtime()\n",
    "    print (\"%04d/%02d/%02d %02d:%02d:%02d\" % (now.tm_year, now.tm_mon, now.tm_mday, now.tm_hour, now.tm_min, now.tm_sec))\n",
    "\n",
    "    print(\"epoch: {}/{} | trn loss: {:.4f} | val loss: {:.4f} | val accuracy: {:.4f}% \\n\".format(\n",
    "                epoch+1, total_epoch, trn_loss / len(train_loader), val_loss / len(test_loader), val_acc*100\n",
    "            ))\n",
    "    \n",
    "    \n",
    "    if epoch+1>2:\n",
    "        if val_loss_list[-1]>val_loss_list[-2]:\n",
    "            start_early_stop_check=1\n",
    "    else:\n",
    "        val_loss_min=val_loss_list[-1]\n",
    "        \n",
    "    if start_early_stop_check:\n",
    "        early_stop_temp=val_loss_list[-patience:]\n",
    "        if all(early_stop_temp[i]<early_stop_temp[i+1] for i in range (len(early_stop_temp)-1)):\n",
    "            print(\"Early stop!\")\n",
    "            break\n",
    "            \n",
    "    if epoch+1>saving_start_epoch:\n",
    "        if val_loss_list[-1]<val_loss_min:\n",
    "            if os.path.isfile(model_name):\n",
    "                os.remove(model_name)\n",
    "            val_loss_min=val_loss_list[-1]\n",
    "            model_name=\"RESNET_\"+model_char+\"_{:.3f}\".format(val_loss_min)\n",
    "            torch.save(model, model_name)\n",
    "            print(\"Model replaced and saved as \",model_name)"
   ]
  },
  {
   "cell_type": "code",
   "execution_count": 17,
   "metadata": {},
   "outputs": [
    {
     "name": "stdout",
     "output_type": "stream",
     "text": [
      "Fin model saved RESNET_fin\n"
     ]
    }
   ],
   "source": [
    "fin_name=\"RESNET_fin\"\n",
    "torch.save(model, fin_name)\n",
    "print(\"Fin model saved\", fin_name)"
   ]
  },
  {
   "cell_type": "code",
   "execution_count": null,
   "metadata": {},
   "outputs": [],
   "source": []
  }
 ],
 "metadata": {
  "kernelspec": {
   "display_name": "Python 3",
   "language": "python",
   "name": "python3"
  },
  "language_info": {
   "codemirror_mode": {
    "name": "ipython",
    "version": 3
   },
   "file_extension": ".py",
   "mimetype": "text/x-python",
   "name": "python",
   "nbconvert_exporter": "python",
   "pygments_lexer": "ipython3",
   "version": "3.7.3"
  }
 },
 "nbformat": 4,
 "nbformat_minor": 4
}
