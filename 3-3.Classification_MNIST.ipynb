{
 "cells": [
  {
   "cell_type": "code",
   "execution_count": 1,
   "metadata": {},
   "outputs": [],
   "source": [
    "import torchvision\n",
    "import torch\n",
    "from torch import nn, optim\n",
    "import torchvision.transforms as transforms\n",
    "import numpy as np\n",
    "\n",
    "batch_size=128\n",
    "\n",
    "transform = transforms.Compose(\n",
    "    [transforms.ToTensor()])"
   ]
  },
  {
   "cell_type": "markdown",
   "metadata": {},
   "source": [
    "### torchvision.datasets\n",
    "torchvision.datasets에는 다양한 dataset들이 존재한다. 그중 대표적인 예시는 다음과 같다.\n",
    "\n",
    "- MNIST\n",
    "- CIFAR\n",
    "- COCO\n",
    "- ImageNet\n",
    "- STL10"
   ]
  },
  {
   "cell_type": "code",
   "execution_count": 2,
   "metadata": {
    "scrolled": true
   },
   "outputs": [],
   "source": [
    "train_data=torchvision.datasets.MNIST(root=\"./MNIST_data\", train=True,\n",
    "                                        download=True, transform=transform)\n",
    "train_loader = torch.utils.data.DataLoader(train_data, batch_size=batch_size, shuffle=True, num_workers=4, drop_last=True)"
   ]
  },
  {
   "cell_type": "code",
   "execution_count": 3,
   "metadata": {},
   "outputs": [],
   "source": [
    "class Model(torch.nn.Module):\n",
    "    def __init__(self):\n",
    "        super(Model, self).__init__()\n",
    "        self.layer_1 = nn.Conv2d(1,64,10,1)\n",
    "        self.act_1 = nn.ReLU()\n",
    "        \n",
    "        self.layer_2 = nn.Conv2d(64,64,5,1)\n",
    "        self.act_2 = nn.ReLU()\n",
    "        \n",
    "        self.layer_3 = nn.Conv2d(64,128,5,1)\n",
    "        self.act_3 = nn.ReLU()\n",
    "        \n",
    "        self.layer_4 = nn.Conv2d(128,128,2,1)\n",
    "        self.act_4 = nn.ReLU()\n",
    "        \n",
    "        self.layer_5 = nn.Conv2d(128,256,2,1)\n",
    "        self.act_5 = nn.ReLU()\n",
    "        \n",
    "        self.max_1=nn.MaxPool2d(2,2)\n",
    "        \n",
    "        self.layer_6 = nn.Conv2d(256,256,2,1)\n",
    "        self.act_6 = nn.ReLU()\n",
    "        \n",
    "        self.fc_layer_1 = nn.Linear(9*256,1000)\n",
    "        self.act_7 = nn.ReLU()\n",
    "        \n",
    "        self.bnm1=nn.BatchNorm1d(1000)\n",
    "        \n",
    "        self.fc_layer_2 = nn.Linear(1000,10)\n",
    "        self.act_8 = nn.ReLU()\n",
    "\n",
    "        \n",
    "    def forward(self, x):\n",
    "        x = x.view(batch_size,1,28,28)\n",
    "        out = self.layer_1(x)\n",
    "        out = self.act_1(out)\n",
    "        for module in list(self.modules())[2:-5]:\n",
    "            out = module(out)\n",
    "        out = out.view(batch_size,-1)\n",
    "        for module in list(self.modules())[-5:]:\n",
    "            out = module(out)\n",
    "        return out"
   ]
  },
  {
   "cell_type": "code",
   "execution_count": 4,
   "metadata": {},
   "outputs": [],
   "source": [
    "model=Model()\n",
    "if torch.cuda.is_available():\n",
    "    model=model.cuda()\n",
    "criterion=nn.CrossEntropyLoss()\n",
    "optimizer = optim.Adam(model.parameters())"
   ]
  },
  {
   "cell_type": "code",
   "execution_count": 5,
   "metadata": {},
   "outputs": [],
   "source": [
    "total_epoch=10"
   ]
  },
  {
   "cell_type": "code",
   "execution_count": 7,
   "metadata": {},
   "outputs": [
    {
     "name": "stdout",
     "output_type": "stream",
     "text": [
      "epoch: 1/10 | trn loss: 0.1511 | trn accuracy: 95.27% \n",
      "epoch: 2/10 | trn loss: 0.0655 | trn accuracy: 98.02% \n",
      "epoch: 3/10 | trn loss: 0.0473 | trn accuracy: 98.58% \n",
      "epoch: 4/10 | trn loss: 0.0377 | trn accuracy: 98.81% \n",
      "epoch: 5/10 | trn loss: 0.0346 | trn accuracy: 98.97% \n",
      "epoch: 6/10 | trn loss: 0.0307 | trn accuracy: 99.05% \n",
      "epoch: 7/10 | trn loss: 0.0272 | trn accuracy: 99.14% \n",
      "epoch: 8/10 | trn loss: 0.0259 | trn accuracy: 99.21% \n",
      "epoch: 9/10 | trn loss: 0.0221 | trn accuracy: 99.33% \n",
      "epoch: 10/10 | trn loss: 0.0201 | trn accuracy: 99.38% \n"
     ]
    }
   ],
   "source": [
    "for epoch in range(total_epoch):\n",
    "    trn_loss=0\n",
    "    trn_correct=0\n",
    "    for i, data in enumerate(train_loader, 0):\n",
    "        inputs, labels = data\n",
    "        if torch.cuda.is_available():\n",
    "            inputs=inputs.cuda()\n",
    "            labels=labels.cuda()\n",
    "        # grad init\n",
    "        optimizer.zero_grad()\n",
    "        # forward propagation\n",
    "        output= model(inputs)\n",
    "        # calculate loss\n",
    "        loss=criterion(output, labels)\n",
    "        # back propagation \n",
    "        loss.backward()\n",
    "        # weight update\n",
    "        optimizer.step()\n",
    "        \n",
    "        # trn_loss summary\n",
    "        trn_loss += loss.item()\n",
    "        \n",
    "        _, predicted=torch.max(output,1)\n",
    "        trn_correct+=np.count_nonzero(predicted.cpu().detach()==labels.cpu().detach())\n",
    "        # del (memory issue)\n",
    "        del loss\n",
    "        del output\n",
    "    print(\"epoch: {}/{} | trn loss: {:.4f} | trn accuracy: {:.2f}% \".format(\n",
    "                epoch+1, total_epoch, trn_loss / len(train_loader), \n",
    "        trn_correct/(len(train_loader)*batch_size)*100\n",
    "            ))"
   ]
  },
  {
   "cell_type": "code",
   "execution_count": null,
   "metadata": {},
   "outputs": [],
   "source": []
  }
 ],
 "metadata": {
  "kernelspec": {
   "display_name": "Python 3",
   "language": "python",
   "name": "python3"
  },
  "language_info": {
   "codemirror_mode": {
    "name": "ipython",
    "version": 3
   },
   "file_extension": ".py",
   "mimetype": "text/x-python",
   "name": "python",
   "nbconvert_exporter": "python",
   "pygments_lexer": "ipython3",
   "version": "3.7.3"
  }
 },
 "nbformat": 4,
 "nbformat_minor": 4
}
