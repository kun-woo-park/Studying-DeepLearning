{
 "cells": [
  {
   "cell_type": "code",
   "execution_count": 1,
   "metadata": {},
   "outputs": [],
   "source": [
    "import torch\n",
    "import torch.nn as nn\n",
    "import torch.nn.functional as F\n",
    "import numpy as np\n",
    "import matplotlib.pyplot as plt\n",
    "target_w=[2,1,3]"
   ]
  },
  {
   "cell_type": "code",
   "execution_count": 2,
   "metadata": {},
   "outputs": [],
   "source": [
    "def data_gen(w):\n",
    "    x=np.random.uniform(0,1,1000)\n",
    "    x_2=x**2\n",
    "    b=np.ones(1000)\n",
    "    x_train=np.vstack([x_2,x,b])\n",
    "    return np.dot(w,x_train), np.array([x_2,x])"
   ]
  },
  {
   "cell_type": "code",
   "execution_count": 3,
   "metadata": {},
   "outputs": [],
   "source": [
    "y_train, x_data=data_gen(target_w)"
   ]
  },
  {
   "cell_type": "code",
   "execution_count": 4,
   "metadata": {},
   "outputs": [],
   "source": [
    "x_data=x_data.T"
   ]
  },
  {
   "cell_type": "code",
   "execution_count": 5,
   "metadata": {},
   "outputs": [
    {
     "data": {
      "text/plain": [
       "<matplotlib.collections.PathCollection at 0x7f4183e4c160>"
      ]
     },
     "execution_count": 5,
     "metadata": {},
     "output_type": "execute_result"
    },
    {
     "data": {
      "image/png": "[encoded data removed]",
      "text/plain": [
       "<Figure size 432x288 with 1 Axes>"
      ]
     },
     "metadata": {
      "needs_background": "light"
     },
     "output_type": "display_data"
    }
   ],
   "source": [
    "plt.scatter(x_data[:,1],y_train)"
   ]
  },
  {
   "cell_type": "code",
   "execution_count": 6,
   "metadata": {},
   "outputs": [],
   "source": [
    "x_train=x_data"
   ]
  },
  {
   "cell_type": "code",
   "execution_count": 7,
   "metadata": {},
   "outputs": [],
   "source": [
    "x_train=torch.FloatTensor(x_train)\n",
    "y_train=torch.FloatTensor(y_train)"
   ]
  },
  {
   "cell_type": "code",
   "execution_count": 8,
   "metadata": {},
   "outputs": [],
   "source": [
    "model=nn.Linear(2,1)"
   ]
  },
  {
   "cell_type": "code",
   "execution_count": 9,
   "metadata": {},
   "outputs": [],
   "source": [
    "optimizer = torch.optim.SGD(model.parameters(), lr=0.1)"
   ]
  },
  {
   "cell_type": "code",
   "execution_count": 10,
   "metadata": {},
   "outputs": [
    {
     "name": "stdout",
     "output_type": "stream",
     "text": [
      "Epoch    0/5000 Cost: 23.468548\n",
      "Epoch  100/5000 Cost: 0.002835\n",
      "Epoch  200/5000 Cost: 0.002105\n",
      "Epoch  300/5000 Cost: 0.001896\n",
      "Epoch  400/5000 Cost: 0.001710\n",
      "Epoch  500/5000 Cost: 0.001543\n",
      "Epoch  600/5000 Cost: 0.001392\n",
      "Epoch  700/5000 Cost: 0.001256\n",
      "Epoch  800/5000 Cost: 0.001133\n",
      "Epoch  900/5000 Cost: 0.001023\n",
      "Epoch 1000/5000 Cost: 0.000923\n",
      "Epoch 1100/5000 Cost: 0.000832\n",
      "Epoch 1200/5000 Cost: 0.000751\n",
      "Epoch 1300/5000 Cost: 0.000678\n",
      "Epoch 1400/5000 Cost: 0.000611\n",
      "Epoch 1500/5000 Cost: 0.000552\n",
      "Epoch 1600/5000 Cost: 0.000498\n",
      "Epoch 1700/5000 Cost: 0.000449\n",
      "Epoch 1800/5000 Cost: 0.000405\n",
      "Epoch 1900/5000 Cost: 0.000365\n",
      "Epoch 2000/5000 Cost: 0.000330\n",
      "Epoch 2100/5000 Cost: 0.000298\n",
      "Epoch 2200/5000 Cost: 0.000268\n",
      "Epoch 2300/5000 Cost: 0.000242\n",
      "Epoch 2400/5000 Cost: 0.000218\n",
      "Epoch 2500/5000 Cost: 0.000197\n",
      "Epoch 2600/5000 Cost: 0.000178\n",
      "Epoch 2700/5000 Cost: 0.000160\n",
      "Epoch 2800/5000 Cost: 0.000145\n",
      "Epoch 2900/5000 Cost: 0.000131\n",
      "Epoch 3000/5000 Cost: 0.000118\n",
      "Epoch 3100/5000 Cost: 0.000106\n",
      "Epoch 3200/5000 Cost: 0.000096\n",
      "Epoch 3300/5000 Cost: 0.000087\n",
      "Epoch 3400/5000 Cost: 0.000078\n",
      "Epoch 3500/5000 Cost: 0.000070\n",
      "Epoch 3600/5000 Cost: 0.000064\n",
      "Epoch 3700/5000 Cost: 0.000057\n",
      "Epoch 3800/5000 Cost: 0.000052\n",
      "Epoch 3900/5000 Cost: 0.000047\n",
      "Epoch 4000/5000 Cost: 0.000042\n",
      "Epoch 4100/5000 Cost: 0.000038\n",
      "Epoch 4200/5000 Cost: 0.000034\n",
      "Epoch 4300/5000 Cost: 0.000031\n",
      "Epoch 4400/5000 Cost: 0.000028\n",
      "Epoch 4500/5000 Cost: 0.000025\n",
      "Epoch 4600/5000 Cost: 0.000023\n",
      "Epoch 4700/5000 Cost: 0.000021\n",
      "Epoch 4800/5000 Cost: 0.000018\n",
      "Epoch 4900/5000 Cost: 0.000017\n",
      "Epoch 5000/5000 Cost: 0.000015\n",
      "time:4.842463 s\n"
     ]
    }
   ],
   "source": [
    "import time\n",
    "nb_epochs = 5000\n",
    "start = time.time()\n",
    "for epoch in range(nb_epochs+1):\n",
    "\n",
    "    prediction = torch.squeeze(model(x_train))\n",
    "    cost = F.mse_loss(prediction, y_train) \n",
    "    optimizer.zero_grad()\n",
    "    cost.backward()\n",
    "    optimizer.step()\n",
    "\n",
    "    if epoch % 100 == 0:\n",
    "      print('Epoch {:4d}/{} Cost: {:.6f}'.format(\n",
    "          epoch, nb_epochs, cost.item()\n",
    "      ))\n",
    "print(\"time:{:.6f} s\".format(time.time()-start))"
   ]
  },
  {
   "cell_type": "code",
   "execution_count": 11,
   "metadata": {},
   "outputs": [
    {
     "name": "stdout",
     "output_type": "stream",
     "text": [
      "[Parameter containing:\n",
      "tensor([[1.9472, 1.0545]], requires_grad=True), Parameter containing:\n",
      "tensor([2.9902], requires_grad=True)]\n"
     ]
    }
   ],
   "source": [
    "print(list(model.parameters()))"
   ]
  },
  {
   "cell_type": "code",
   "execution_count": 12,
   "metadata": {},
   "outputs": [
    {
     "data": {
      "text/plain": [
       "Parameter containing:\n",
       "tensor([[1.9472, 1.0545]], requires_grad=True)"
      ]
     },
     "execution_count": 12,
     "metadata": {},
     "output_type": "execute_result"
    }
   ],
   "source": [
    "list(model.parameters())[0]"
   ]
  },
  {
   "cell_type": "code",
   "execution_count": 13,
   "metadata": {},
   "outputs": [
    {
     "data": {
      "text/plain": [
       "Parameter containing:\n",
       "tensor([2.9902], requires_grad=True)"
      ]
     },
     "execution_count": 13,
     "metadata": {},
     "output_type": "execute_result"
    }
   ],
   "source": [
    "list(model.parameters())[1]"
   ]
  },
  {
   "cell_type": "code",
   "execution_count": null,
   "metadata": {},
   "outputs": [],
   "source": [
    "# 결과가 정상적으로 2, 1, 3에 수렴함을 확인할 수 있다."
   ]
  }
 ],
 "metadata": {
  "kernelspec": {
   "display_name": "Python 3",
   "language": "python",
   "name": "python3"
  },
  "language_info": {
   "codemirror_mode": {
    "name": "ipython",
    "version": 3
   },
   "file_extension": ".py",
   "mimetype": "text/x-python",
   "name": "python",
   "nbconvert_exporter": "python",
   "pygments_lexer": "ipython3",
   "version": "3.7.3"
  }
 },
 "nbformat": 4,
 "nbformat_minor": 4
}
