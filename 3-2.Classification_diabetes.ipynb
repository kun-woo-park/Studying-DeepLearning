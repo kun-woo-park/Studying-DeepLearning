{
 "cells": [
  {
   "cell_type": "code",
   "execution_count": 1,
   "metadata": {},
   "outputs": [],
   "source": [
    "from torch import nn, optim, from_numpy, max\n",
    "import numpy as np\n",
    "\n",
    "xy=np.loadtxt(\"./diabetes.csv.gz\", delimiter=\",\",dtype=np.float32)"
   ]
  },
  {
   "cell_type": "code",
   "execution_count": 2,
   "metadata": {},
   "outputs": [],
   "source": [
    "x_data=from_numpy(xy[:,0:-1])\n",
    "y_data=from_numpy(xy[:,-1].astype(np.int64))"
   ]
  },
  {
   "cell_type": "code",
   "execution_count": 3,
   "metadata": {},
   "outputs": [],
   "source": [
    "class Model(nn.Module):\n",
    "    def __init__(self):\n",
    "        super(Model,self).__init__()\n",
    "        self.l1=nn.Linear(8,100)\n",
    "        self.act= nn.ReLU()\n",
    "        self.l2=nn.Linear(100,90)\n",
    "        self.act= nn.ReLU()\n",
    "        self.l3=nn.Linear(90,80)\n",
    "        self.act= nn.ReLU()\n",
    "        self.l4=nn.Linear(80,70)\n",
    "        self.act= nn.ReLU()\n",
    "        self.l5=nn.Linear(70,60)\n",
    "        self.act= nn.ReLU()\n",
    "        self.l6=nn.Linear(60,50)\n",
    "        self.act= nn.ReLU()\n",
    "        self.l7=nn.Linear(50,40)\n",
    "        self.act= nn.ReLU()\n",
    "        self.l8=nn.Linear(40,30)\n",
    "        self.act= nn.ReLU()\n",
    "        self.l9=nn.Linear(30,20)\n",
    "        self.act= nn.ReLU()\n",
    "        self.l10=nn.Linear(20,10)\n",
    "        self.act= nn.ReLU()\n",
    "        self.l11=nn.Linear(10,2)\n",
    "        self.act= nn.ReLU()\n",
    "    def forward(self, x):\n",
    "            out = self.l1(x)\n",
    "            out = self.act(out)\n",
    "            for module in list(self.modules())[2:]:\n",
    "                out = module(out)\n",
    "            return out"
   ]
  },
  {
   "cell_type": "code",
   "execution_count": 4,
   "metadata": {},
   "outputs": [],
   "source": [
    "model=Model()\n",
    "criterion=nn.CrossEntropyLoss()\n",
    "optimizer = optim.Adam(model.parameters(), lr=0.01)"
   ]
  },
  {
   "cell_type": "code",
   "execution_count": 5,
   "metadata": {},
   "outputs": [
    {
     "name": "stdout",
     "output_type": "stream",
     "text": [
      "Epoch1 | Loss:  0.6717\n",
      "Epoch11 | Loss:  0.4649\n",
      "Epoch21 | Loss:  0.4500\n",
      "Epoch31 | Loss:  0.4150\n",
      "Epoch41 | Loss:  0.3809\n",
      "Epoch51 | Loss:  0.3631\n",
      "Epoch61 | Loss:  0.3731\n",
      "Epoch71 | Loss:  0.3159\n",
      "Epoch81 | Loss:  0.2796\n",
      "Epoch91 | Loss:  0.2524\n",
      "Accuracy for train data: 0.905%\n"
     ]
    }
   ],
   "source": [
    "for epoch in range(100):\n",
    "    y_pred=model(x_data)\n",
    "    loss=criterion(y_pred,y_data)\n",
    "    if epoch%10==0:\n",
    "        print(f\"Epoch{epoch+1} | Loss: {loss.item(): .4f}\")\n",
    "    \n",
    "    optimizer.zero_grad()\n",
    "    loss.backward()\n",
    "    optimizer.step()\n",
    "_, predicted=max(y_pred,1)\n",
    "print(\"Accuracy for train data: {:.3f}%\".format(\n",
    "      np.count_nonzero(predicted==y_data)/len(y_data)))"
   ]
  },
  {
   "cell_type": "code",
   "execution_count": null,
   "metadata": {},
   "outputs": [],
   "source": []
  },
  {
   "cell_type": "code",
   "execution_count": null,
   "metadata": {},
   "outputs": [],
   "source": []
  }
 ],
 "metadata": {
  "kernelspec": {
   "display_name": "Python 3",
   "language": "python",
   "name": "python3"
  },
  "language_info": {
   "codemirror_mode": {
    "name": "ipython",
    "version": 3
   },
   "file_extension": ".py",
   "mimetype": "text/x-python",
   "name": "python",
   "nbconvert_exporter": "python",
   "pygments_lexer": "ipython3",
   "version": "3.7.3"
  }
 },
 "nbformat": 4,
 "nbformat_minor": 4
}
