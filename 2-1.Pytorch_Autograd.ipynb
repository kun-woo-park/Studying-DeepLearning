{
 "cells": [
  {
   "cell_type": "code",
   "execution_count": 1,
   "metadata": {},
   "outputs": [],
   "source": [
    "import torch\n",
    "import numpy as np\n",
    "import matplotlib.pyplot as plt\n",
    "\n",
    "x_data=[1.0,2.0,3.0]\n",
    "y_data=[2.0,4.0,6.0]\n",
    "\n",
    "w=torch.tensor([1.0],requires_grad=True)"
   ]
  },
  {
   "cell_type": "code",
   "execution_count": 2,
   "metadata": {},
   "outputs": [
    {
     "name": "stdout",
     "output_type": "stream",
     "text": [
      "predict (before training) 4 4.0\n"
     ]
    }
   ],
   "source": [
    "# our model forward pass\n",
    "def forward(x):\n",
    "    return x*w\n",
    "\n",
    "#loss function\n",
    "def loss(x,y):\n",
    "    return (x-y)**2\n",
    "\n",
    "#before training\n",
    "print(\"predict (before training)\", 4, forward(4).item())"
   ]
  },
  {
   "cell_type": "code",
   "execution_count": 3,
   "metadata": {},
   "outputs": [
    {
     "name": "stdout",
     "output_type": "stream",
     "text": [
      "Epoch: 0 | Loss: 7.315943717956543\n",
      "Epoch: 1 | Loss: 3.9987640380859375\n",
      "Epoch: 2 | Loss: 2.1856532096862793\n",
      "Epoch: 3 | Loss: 1.1946394443511963\n",
      "Epoch: 4 | Loss: 0.6529689431190491\n",
      "Epoch: 5 | Loss: 0.35690122842788696\n",
      "Epoch: 6 | Loss: 0.195076122879982\n",
      "Epoch: 7 | Loss: 0.10662525147199631\n",
      "Epoch: 8 | Loss: 0.0582793727517128\n",
      "Epoch: 9 | Loss: 0.03185431286692619\n",
      "prediction (after training) 4 7.804864406585693\n"
     ]
    }
   ],
   "source": [
    "for epoch in range(10):\n",
    "    for x_val, y_val in zip(x_data,y_data):\n",
    "        y_pred = forward(x_val)\n",
    "        l = loss(y_pred, y_val)\n",
    "        l.backward() #Back propagate to update weights\n",
    "        w.data=w.data-0.01*w.grad.item()\n",
    "        \n",
    "        # manually set to zero\n",
    "        w.grad.data.zero_()\n",
    "    print(f\"Epoch: {epoch} | Loss: {l.item()}\")\n",
    "# after training\n",
    "print(\"prediction (after training)\", 4, forward(4).item())"
   ]
  },
  {
   "cell_type": "code",
   "execution_count": null,
   "metadata": {},
   "outputs": [],
   "source": []
  }
 ],
 "metadata": {
  "kernelspec": {
   "display_name": "Python 3",
   "language": "python",
   "name": "python3"
  },
  "language_info": {
   "codemirror_mode": {
    "name": "ipython",
    "version": 3
   },
   "file_extension": ".py",
   "mimetype": "text/x-python",
   "name": "python",
   "nbconvert_exporter": "python",
   "pygments_lexer": "ipython3",
   "version": "3.7.3"
  }
 },
 "nbformat": 4,
 "nbformat_minor": 2
}
